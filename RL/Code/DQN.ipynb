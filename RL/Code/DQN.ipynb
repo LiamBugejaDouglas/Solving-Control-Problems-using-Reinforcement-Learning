{
 "cells": [
  {
   "cell_type": "code",
   "execution_count": 69,
   "id": "38119d53",
   "metadata": {},
   "outputs": [],
   "source": [
    "import gymnasium as gym\n",
    "import numpy as np\n",
    "import torch\n",
    "import torch.nn as nn\n",
    "import torch.nn.functional as F\n",
    "import matplotlib.pyplot as plt\n",
    "from typing import Sequence\n",
    "from collections import namedtuple, deque\n",
    "import itertools\n",
    "import random                       \n",
    "import warnings\n",
    "import time\n",
    "import os\n",
    "warnings.filterwarnings(\"ignore\")"
   ]
  },
  {
   "cell_type": "code",
   "execution_count": 70,
   "id": "69966ad8",
   "metadata": {},
   "outputs": [],
   "source": [
    "GAMMA = 0.99\n",
    "BATCH_SIZE = 128\n",
    "BUFFER_SIZE = 10000                                                             \n",
    "MIN_REPLAY_SIZE = 5000\n",
    "EPS_START = 1.0\n",
    "EPS_END = 0.05\n",
    "EPS_DECAY = 0.995\n",
    "TARGET_UPDATE_FREQ = 5"
   ]
  },
  {
   "cell_type": "code",
   "execution_count": 71,
   "id": "15e98a2e",
   "metadata": {},
   "outputs": [],
   "source": [
    "env = gym.make(\"LunarLander-v2\")\n",
    "obs, info = env.reset()\n",
    "episode_reward = 0.0"
   ]
  },
  {
   "cell_type": "code",
   "execution_count": 72,
   "id": "c6305ae0",
   "metadata": {},
   "outputs": [],
   "source": [
    "Transition = namedtuple('Transition', ('states', 'actions', 'rewards', 'dones', 'next_states'))\n",
    "\n",
    "class Replay_memory():\n",
    "\n",
    "    def __init__(self, env, fullsize, minsize, batchsize):\n",
    "        self.env = env\n",
    "        self.memory = deque(maxlen=fullsize)\n",
    "        self.rewards = deque(maxlen=50)\n",
    "        self.batchsize = batchsize\n",
    "        self.minsize = minsize\n",
    "\n",
    "    def append(self, transition):\n",
    "        self.memory.append(transition)\n",
    "    \n",
    "    def sample_batch(self):\n",
    "        batch = random.sample(self.memory, self.batchsize)\n",
    "        batch = Transition(*zip(*batch))\n",
    "        \n",
    "        states = torch.from_numpy(np.array(batch.states, dtype=np.float32))\n",
    "        actions = torch.from_numpy(np.array(batch.actions, dtype=np.int64)).unsqueeze(1)\n",
    "        rewards = torch.from_numpy(np.array(batch.rewards, dtype=np.float32)).unsqueeze(1)\n",
    "        dones = torch.from_numpy(np.array(batch.dones, dtype=np.bool8)).unsqueeze(1)\n",
    "        next_states = torch.from_numpy(np.array(batch.next_states, dtype=np.float32))\n",
    "        \n",
    "        return states, actions, rewards, dones, next_states\n",
    "\n",
    "    def initialize(self):\n",
    "        obs, info = env.reset()\n",
    "        for _ in range(self.minsize):\n",
    "            action = self.env.action_space.sample()\n",
    "            new_obs, reward, done, info = env.step(action)[:4]\n",
    "            transition = Transition(obs, action, reward, done, new_obs)\n",
    "            self.append(transition)\n",
    "            obs = new_obs\n",
    "            if done:\n",
    "                self.env.reset()\n",
    "        return self"
   ]
  },
  {
   "cell_type": "code",
   "execution_count": 73,
   "id": "dea0084d",
   "metadata": {},
   "outputs": [],
   "source": [
    "replay_memory = Replay_memory(env, BUFFER_SIZE, MIN_REPLAY_SIZE, BATCH_SIZE).initialize()"
   ]
  },
  {
   "cell_type": "code",
   "execution_count": 74,
   "id": "ff71a15c",
   "metadata": {},
   "outputs": [],
   "source": [
    "class DQN(nn.Module):\n",
    "    def __init__(self, ninputs, noutputs):\n",
    "        super(DQN, self).__init__()\n",
    "        self.a1 = nn.Linear(ninputs, 128)\n",
    "        self.a2 = nn.Linear(128, noutputs)\n",
    "    \n",
    "    def forward(self, X):\n",
    "        o = self.a1(X)\n",
    "        o = F.relu(o)\n",
    "        o = self.a2(o)\n",
    "        return o\n",
    "    \n",
    "    def __call__(self, X):\n",
    "        return self.forward(X)"
   ]
  },
  {
   "cell_type": "code",
   "execution_count": 75,
   "id": "c245ccf7",
   "metadata": {},
   "outputs": [
    {
     "data": {
      "text/plain": [
       "DQN(\n",
       "  (a1): Linear(in_features=8, out_features=128, bias=True)\n",
       "  (a2): Linear(in_features=128, out_features=4, bias=True)\n",
       ")"
      ]
     },
     "execution_count": 75,
     "metadata": {},
     "output_type": "execute_result"
    }
   ],
   "source": [
    "dqn_policy = DQN(env.observation_space.shape[0], env.action_space.n)\n",
    "dqn_target = DQN(env.observation_space.shape[0], env.action_space.n)\n",
    "dqn_target.load_state_dict(dqn_policy.state_dict())\n",
    "dqn_target.eval()"
   ]
  },
  {
   "cell_type": "code",
   "execution_count": 76,
   "id": "994becd9",
   "metadata": {},
   "outputs": [],
   "source": [
    "loss_fn = nn.SmoothL1Loss()\n",
    "optimizer = torch.optim.Adam(dqn_policy.parameters(), lr=0.0001)"
   ]
  },
  {
   "cell_type": "code",
   "execution_count": 77,
   "id": "0b301639",
   "metadata": {},
   "outputs": [],
   "source": [
    "def epsilon_greedy_policy(epsilon, obs):\n",
    "    rnd_sample = random.random()\n",
    "    if rnd_sample <= epsilon:\n",
    "        action = env.action_space.sample()\n",
    "    else:\n",
    "        with torch.no_grad():\n",
    "            action = int(torch.argmax(dqn_policy(torch.Tensor(obs))))\n",
    "    return action"
   ]
  },
  {
   "cell_type": "code",
   "execution_count": 78,
   "id": "cf2d1b08",
   "metadata": {},
   "outputs": [
    {
     "name": "stdout",
     "output_type": "stream",
     "text": [
      "Episode: 50 Avg Results: -181.10225480887394\n",
      "Episode: 100 Avg Results: -98.13171124136662\n",
      "Episode: 150 Avg Results: -56.4291410471585\n",
      "Episode: 200 Avg Results: 0.7975081113884019\n",
      "Episode: 250 Avg Results: 50.135902490327624\n",
      "Episode: 300 Avg Results: 40.607193097348976\n",
      "Episode: 350 Avg Results: 100.7029911293888\n",
      "Episode: 400 Avg Results: 93.39247421299002\n",
      "Episode: 450 Avg Results: 38.8051583060367\n",
      "Episode: 500 Avg Results: 81.80921048452635\n",
      "Episode: 550 Avg Results: 40.95476317372967\n",
      "Episode: 600 Avg Results: -15.77165513890726\n",
      "Episode: 650 Avg Results: -15.868668570174883\n",
      "Episode: 700 Avg Results: 16.898228188856375\n",
      "Episode: 750 Avg Results: -1.8669504556541543\n",
      "Episode: 800 Avg Results: -15.461618840023334\n",
      "Episode: 850 Avg Results: 7.235242425656471\n",
      "Episode: 900 Avg Results: 68.92470105386754\n",
      "Episode: 950 Avg Results: 21.036322939229567\n",
      "Episode: 1000 Avg Results: 95.0337940761292\n",
      "Episode: 1050 Avg Results: 93.44207339524863\n",
      "Episode: 1100 Avg Results: 112.54930317344629\n",
      "Episode: 1150 Avg Results: 101.07108763902535\n",
      "Episode: 1200 Avg Results: 104.39223283197668\n",
      "Episode: 1250 Avg Results: 94.079742006939\n",
      "Episode: 1300 Avg Results: 127.18139531848969\n",
      "Episode: 1350 Avg Results: 156.060777113335\n",
      "Episode: 1400 Avg Results: 176.70475031113278\n",
      "Episode: 1450 Avg Results: 160.997648483794\n",
      "Solved at episode: 1490 Avg Results: 195.89782323032682\n"
     ]
    }
   ],
   "source": [
    "obs, info = env.reset()\n",
    "eps_threshold =EPS_START\n",
    "episode = 1\n",
    "scores=[]\n",
    "\n",
    "for step in itertools.count():\n",
    "    action = epsilon_greedy_policy(eps_threshold, obs)\n",
    "    new_obs, reward, terminated, truncated, _ = env.step(action)\n",
    "    replay_memory.append(Transition(obs, action, reward, terminated, new_obs))\n",
    "    episode_reward += reward\n",
    "    obs = new_obs\n",
    "    \n",
    "    if terminated or truncated:\n",
    "        \n",
    "        scores.append(episode_reward)\n",
    "        episode += 1\n",
    "        eps_threshold = np.max((eps_threshold*EPS_DECAY, EPS_END))\n",
    "        replay_memory.rewards.append(episode_reward)\n",
    "        obs, info = env.reset()\n",
    "        avg_res = np.mean(replay_memory.rewards)\n",
    "\n",
    "        if episode % 50 == 0: \n",
    "            avg_res = np.mean(replay_memory.rewards)\n",
    "            print(f'Episode: {episode} Avg Results: {avg_res}')\n",
    "\n",
    "        if avg_res >= 195:\n",
    "            print(f'Solved at episode: {episode} Avg Results: {avg_res}')\n",
    "            break\n",
    "        \n",
    "        if step % TARGET_UPDATE_FREQ == 0:\n",
    "            dqn_target.load_state_dict(dqn_policy.state_dict())\n",
    "            \n",
    "\n",
    "        episode_reward = 0\n",
    "\n",
    "    b_states, b_actions, b_rewards, b_dones, b_next_states = replay_memory.sample_batch()\n",
    "\n",
    "    qvalues = dqn_policy(b_states).gather(1, b_actions)\n",
    "    \n",
    "    with torch.no_grad():\n",
    "        target_qvalues = dqn_target(b_next_states)\n",
    "        max_target_qvalues = torch.max(target_qvalues, axis=1).values.unsqueeze(1)\n",
    "        expected_qvalues = b_rewards + GAMMA * (1 - b_dones.type(torch.int64)) * max_target_qvalues\n",
    "\n",
    "    loss = loss_fn(qvalues, expected_qvalues)\n",
    "    optimizer.zero_grad()\n",
    "    loss.backward()\n",
    "    for param in dqn_policy.parameters():\n",
    "        param.grad.data.clamp_(-1, 1)\n",
    "    optimizer.step()"
   ]
  },
  {
   "cell_type": "code",
   "execution_count": 1,
   "id": "b454570f",
   "metadata": {},
   "outputs": [
    {
     "ename": "NameError",
     "evalue": "name 'plt' is not defined",
     "output_type": "error",
     "traceback": [
      "\u001b[1;31m---------------------------------------------------------------------------\u001b[0m",
      "\u001b[1;31mNameError\u001b[0m                                 Traceback (most recent call last)",
      "\u001b[1;32m~\\AppData\\Local\\Temp\\ipykernel_9348\\3651783355.py\u001b[0m in \u001b[0;36m<module>\u001b[1;34m\u001b[0m\n\u001b[1;32m----> 1\u001b[1;33m \u001b[0mfig\u001b[0m \u001b[1;33m=\u001b[0m \u001b[0mplt\u001b[0m\u001b[1;33m.\u001b[0m\u001b[0mfigure\u001b[0m\u001b[1;33m(\u001b[0m\u001b[0mfigsize\u001b[0m\u001b[1;33m=\u001b[0m\u001b[1;33m(\u001b[0m\u001b[1;36m9\u001b[0m\u001b[1;33m,\u001b[0m \u001b[1;36m9\u001b[0m\u001b[1;33m)\u001b[0m\u001b[1;33m)\u001b[0m\u001b[1;33m\u001b[0m\u001b[1;33m\u001b[0m\u001b[0m\n\u001b[0m\u001b[0;32m      2\u001b[0m \u001b[0max\u001b[0m \u001b[1;33m=\u001b[0m \u001b[0mfig\u001b[0m\u001b[1;33m.\u001b[0m\u001b[0madd_subplot\u001b[0m\u001b[1;33m(\u001b[0m\u001b[1;36m111\u001b[0m\u001b[1;33m)\u001b[0m\u001b[1;33m\u001b[0m\u001b[1;33m\u001b[0m\u001b[0m\n\u001b[0;32m      3\u001b[0m \u001b[0mplt\u001b[0m\u001b[1;33m.\u001b[0m\u001b[0mplot\u001b[0m\u001b[1;33m(\u001b[0m\u001b[0mnp\u001b[0m\u001b[1;33m.\u001b[0m\u001b[0marange\u001b[0m\u001b[1;33m(\u001b[0m\u001b[0mlen\u001b[0m\u001b[1;33m(\u001b[0m\u001b[0mscores\u001b[0m\u001b[1;33m)\u001b[0m\u001b[1;33m)\u001b[0m\u001b[1;33m,\u001b[0m \u001b[0mscores\u001b[0m\u001b[1;33m,\u001b[0m  \u001b[0mmarker\u001b[0m\u001b[1;33m=\u001b[0m\u001b[1;34m'.'\u001b[0m\u001b[1;33m)\u001b[0m\u001b[1;33m\u001b[0m\u001b[1;33m\u001b[0m\u001b[0m\n\u001b[0;32m      4\u001b[0m \u001b[0mplt\u001b[0m\u001b[1;33m.\u001b[0m\u001b[0mtitle\u001b[0m\u001b[1;33m(\u001b[0m\u001b[1;34m'Vanilla DQN (Standard DQN)'\u001b[0m\u001b[1;33m)\u001b[0m\u001b[1;33m\u001b[0m\u001b[1;33m\u001b[0m\u001b[0m\n\u001b[0;32m      5\u001b[0m \u001b[0mplt\u001b[0m\u001b[1;33m.\u001b[0m\u001b[0mylabel\u001b[0m\u001b[1;33m(\u001b[0m\u001b[1;34m'Rewards'\u001b[0m\u001b[1;33m)\u001b[0m\u001b[1;33m\u001b[0m\u001b[1;33m\u001b[0m\u001b[0m\n",
      "\u001b[1;31mNameError\u001b[0m: name 'plt' is not defined"
     ]
    }
   ],
   "source": [
    "fig = plt.figure(figsize=(9, 9))\n",
    "ax = fig.add_subplot(111)\n",
    "plt.plot(np.arange(len(scores)), scores,  marker='.')\n",
    "plt.title('Vanilla DQN (Standard DQN)')\n",
    "plt.ylabel('Rewards')\n",
    "plt.xlabel('Episodes')\n",
    "plt.show()\n",
    "\n",
    "print(avg_res)"
   ]
  },
  {
   "cell_type": "code",
   "execution_count": null,
   "id": "e3f5251b",
   "metadata": {},
   "outputs": [],
   "source": []
  }
 ],
 "metadata": {
  "kernelspec": {
   "display_name": "base",
   "language": "python",
   "name": "python3"
  },
  "language_info": {
   "codemirror_mode": {
    "name": "ipython",
    "version": 3
   },
   "file_extension": ".py",
   "mimetype": "text/x-python",
   "name": "python",
   "nbconvert_exporter": "python",
   "pygments_lexer": "ipython3",
   "version": "3.9.16 (main, Jan 11 2023, 16:16:36) [MSC v.1916 64 bit (AMD64)]"
  },
  "vscode": {
   "interpreter": {
    "hash": "8f29997b9fdfc71aa1dfb5d526be4795f8df3be7b39eddf72af31c014673db1a"
   }
  }
 },
 "nbformat": 4,
 "nbformat_minor": 5
}
